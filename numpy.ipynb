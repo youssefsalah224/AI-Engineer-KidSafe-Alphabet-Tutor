{
  "nbformat": 4,
  "nbformat_minor": 0,
  "metadata": {
    "colab": {
      "provenance": [],
      "authorship_tag": "ABX9TyMRbiJNmwsV+fePZ6nsgDV0",
      "include_colab_link": true
    },
    "kernelspec": {
      "name": "python3",
      "display_name": "Python 3"
    },
    "language_info": {
      "name": "python"
    }
  },
  "cells": [
    {
      "cell_type": "markdown",
      "metadata": {
        "id": "view-in-github",
        "colab_type": "text"
      },
      "source": [
        "<a href=\"https://colab.research.google.com/github/youssefsalah224/AI-Engineer-KidSafe-Alphabet-Tutor/blob/main/numpy.ipynb\" target=\"_parent\"><img src=\"https://colab.research.google.com/assets/colab-badge.svg\" alt=\"Open In Colab\"/></a>"
      ]
    },
    {
      "cell_type": "code",
      "execution_count": null,
      "metadata": {
        "id": "_4T5nlARPMqE"
      },
      "outputs": [],
      "source": [
        "import numpy as np"
      ]
    },
    {
      "cell_type": "code",
      "source": [
        "mat=np.arange(1,31).reshape(6,5)"
      ],
      "metadata": {
        "id": "xgPqIVjMP5Ue"
      },
      "execution_count": null,
      "outputs": []
    },
    {
      "cell_type": "code",
      "source": [
        "mat"
      ],
      "metadata": {
        "colab": {
          "base_uri": "https://localhost:8080/"
        },
        "id": "lY7pyeZVQlY8",
        "outputId": "13838011-62fc-48b8-f34a-41968d90e1b2"
      },
      "execution_count": null,
      "outputs": [
        {
          "output_type": "execute_result",
          "data": {
            "text/plain": [
              "array([[ 1,  2,  3,  4,  5],\n",
              "       [ 6,  7,  8,  9, 10],\n",
              "       [11, 12, 13, 14, 15],\n",
              "       [16, 17, 18, 19, 20],\n",
              "       [21, 22, 23, 24, 25],\n",
              "       [26, 27, 28, 29, 30]])"
            ]
          },
          "metadata": {},
          "execution_count": 16
        }
      ]
    },
    {
      "cell_type": "code",
      "source": [
        "mat[2:4,0:2]"
      ],
      "metadata": {
        "colab": {
          "base_uri": "https://localhost:8080/"
        },
        "id": "Irurhhz6P5Yx",
        "outputId": "188128ed-c2d8-45ef-aff6-fd51e523bf9c"
      },
      "execution_count": null,
      "outputs": [
        {
          "output_type": "execute_result",
          "data": {
            "text/plain": [
              "array([[11, 12],\n",
              "       [16, 17]])"
            ]
          },
          "metadata": {},
          "execution_count": 17
        }
      ]
    },
    {
      "cell_type": "code",
      "source": [
        "new_mat = np.eye(6, 5, k=1, dtype=int)"
      ],
      "metadata": {
        "id": "DT5Acb--P5a4"
      },
      "execution_count": null,
      "outputs": []
    },
    {
      "cell_type": "code",
      "source": [
        "matt=new_mat*mat\n",
        "matt"
      ],
      "metadata": {
        "colab": {
          "base_uri": "https://localhost:8080/"
        },
        "id": "8IxAw6hYR0qo",
        "outputId": "0003305a-32c0-4f6c-cc58-3a25db3f1eef"
      },
      "execution_count": null,
      "outputs": [
        {
          "output_type": "execute_result",
          "data": {
            "text/plain": [
              "array([[ 0,  2,  0,  0,  0],\n",
              "       [ 0,  0,  8,  0,  0],\n",
              "       [ 0,  0,  0, 14,  0],\n",
              "       [ 0,  0,  0,  0, 20],\n",
              "       [ 0,  0,  0,  0,  0],\n",
              "       [ 0,  0,  0,  0,  0]])"
            ]
          },
          "metadata": {},
          "execution_count": 20
        }
      ]
    },
    {
      "cell_type": "code",
      "source": [
        "matrix = np.zeros((6, 5), dtype=int)\n",
        "pos=[(0,3),(0,4),(4,3),(4,4),(5,3),(5,4)]\n",
        "for r,c in pos:\n",
        " matrix[r,c]=1\n",
        "\n",
        "new_mattt=matrix*mat\n",
        "new_mattt"
      ],
      "metadata": {
        "colab": {
          "base_uri": "https://localhost:8080/"
        },
        "id": "B5wi6gvpS_S-",
        "outputId": "5d937a72-c5a1-4ceb-add4-d38d6027b09d"
      },
      "execution_count": null,
      "outputs": [
        {
          "output_type": "execute_result",
          "data": {
            "text/plain": [
              "array([[ 0,  0,  0,  4,  5],\n",
              "       [ 0,  0,  0,  0,  0],\n",
              "       [ 0,  0,  0,  0,  0],\n",
              "       [ 0,  0,  0,  0,  0],\n",
              "       [ 0,  0,  0, 24, 25],\n",
              "       [ 0,  0,  0, 29, 30]])"
            ]
          },
          "metadata": {},
          "execution_count": 21
        }
      ]
    },
    {
      "cell_type": "code",
      "source": [
        "new=np.arange(10)\n",
        "new"
      ],
      "metadata": {
        "colab": {
          "base_uri": "https://localhost:8080/"
        },
        "id": "NKJ6M-tiUM8k",
        "outputId": "e313b4e3-7965-4853-83ae-a546f66c1eb6"
      },
      "execution_count": null,
      "outputs": [
        {
          "output_type": "execute_result",
          "data": {
            "text/plain": [
              "array([0, 1, 2, 3, 4, 5, 6, 7, 8, 9])"
            ]
          },
          "metadata": {},
          "execution_count": 30
        }
      ]
    },
    {
      "cell_type": "code",
      "source": [
        "idn=np.eye(3,3)\n",
        "idn"
      ],
      "metadata": {
        "colab": {
          "base_uri": "https://localhost:8080/"
        },
        "id": "i7Hu3KkSUM7H",
        "outputId": "cf73a607-89fc-40d5-b616-95d48e3b9c5d"
      },
      "execution_count": null,
      "outputs": [
        {
          "output_type": "execute_result",
          "data": {
            "text/plain": [
              "array([[1., 0., 0.],\n",
              "       [0., 1., 0.],\n",
              "       [0., 0., 1.]])"
            ]
          },
          "metadata": {},
          "execution_count": 31
        }
      ]
    },
    {
      "cell_type": "code",
      "source": [
        "odd= new[new%2==1]\n",
        "odd"
      ],
      "metadata": {
        "colab": {
          "base_uri": "https://localhost:8080/"
        },
        "id": "VI7nySpjUM5u",
        "outputId": "5613383d-5ef0-4a07-8355-f979761af372"
      },
      "execution_count": null,
      "outputs": [
        {
          "output_type": "execute_result",
          "data": {
            "text/plain": [
              "array([1, 3, 5, 7, 9])"
            ]
          },
          "metadata": {},
          "execution_count": 39
        }
      ]
    },
    {
      "cell_type": "code",
      "source": [
        "arr2 = np.arange(1, 13).reshape(3, 4)\n",
        "arr2"
      ],
      "metadata": {
        "colab": {
          "base_uri": "https://localhost:8080/"
        },
        "id": "DSh6ZYulUM2T",
        "outputId": "5e6d3183-e1b8-4e0f-dbbf-694a05b793c5"
      },
      "execution_count": null,
      "outputs": [
        {
          "output_type": "execute_result",
          "data": {
            "text/plain": [
              "array([[ 1,  2,  3,  4],\n",
              "       [ 5,  6,  7,  8],\n",
              "       [ 9, 10, 11, 12]])"
            ]
          },
          "metadata": {},
          "execution_count": 42
        }
      ]
    },
    {
      "cell_type": "code",
      "source": [
        "np.random.rand(5, 5)"
      ],
      "metadata": {
        "colab": {
          "base_uri": "https://localhost:8080/"
        },
        "id": "1MzMbLUwUMvc",
        "outputId": "c6296a30-db18-4986-910f-c0fd2e1b59ac"
      },
      "execution_count": null,
      "outputs": [
        {
          "output_type": "execute_result",
          "data": {
            "text/plain": [
              "array([[0.8083673 , 0.61280358, 0.38952187, 0.61619605, 0.27176004],\n",
              "       [0.52860372, 0.53705692, 0.53722465, 0.39277218, 0.26089984],\n",
              "       [0.43354413, 0.46266356, 0.28580673, 0.87392761, 0.20876544],\n",
              "       [0.09897712, 0.13645294, 0.54547536, 0.47619421, 0.60516952],\n",
              "       [0.8263878 , 0.17135296, 0.9238149 , 0.1218594 , 0.9972366 ]])"
            ]
          },
          "metadata": {},
          "execution_count": 43
        }
      ]
    },
    {
      "cell_type": "code",
      "source": [
        "matrix1 = np.random.randint(1, 10, (5, 3))\n",
        "matrix2 = np.random.randint(1, 10, (3, 2))\n",
        "product = np.dot(matrix1, matrix2)\n",
        "product"
      ],
      "metadata": {
        "colab": {
          "base_uri": "https://localhost:8080/"
        },
        "id": "JMOpNMx8W_B3",
        "outputId": "ea1bc69e-dbff-4f89-9a9e-c51b3fc57272"
      },
      "execution_count": null,
      "outputs": [
        {
          "output_type": "execute_result",
          "data": {
            "text/plain": [
              "array([[44, 64],\n",
              "       [66, 56],\n",
              "       [69, 72],\n",
              "       [46, 36],\n",
              "       [18, 24]])"
            ]
          },
          "metadata": {},
          "execution_count": 44
        }
      ]
    },
    {
      "cell_type": "code",
      "source": [
        "arr = np.arange(11)\n",
        "arr[(arr >= 3) & (arr <= 8)] *= -1\n",
        "arr\n",
        "\n",
        "numm=np.arange(0,10)\n",
        "newnum=np.array([1,1,1,-1,-1,-1,-1,-1,1,1])\n",
        "arr=numm*newnum\n",
        "arr"
      ],
      "metadata": {
        "colab": {
          "base_uri": "https://localhost:8080/"
        },
        "id": "VuXT1ETYXSUw",
        "outputId": "a0caad7f-94c6-45f9-d419-2c0d7c439034"
      },
      "execution_count": null,
      "outputs": [
        {
          "output_type": "execute_result",
          "data": {
            "text/plain": [
              "array([ 0,  1,  2, -3, -4, -5, -6, -7,  8,  9])"
            ]
          },
          "metadata": {},
          "execution_count": 48
        }
      ]
    }
  ]
}